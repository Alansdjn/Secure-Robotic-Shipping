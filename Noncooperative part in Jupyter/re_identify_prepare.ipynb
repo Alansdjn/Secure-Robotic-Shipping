{
 "cells": [
  {
   "cell_type": "code",
   "execution_count": 1,
   "metadata": {},
   "outputs": [],
   "source": [
    "import random\n",
    "import numpy as np\n",
    "import matplotlib.pyplot as plt\n",
    "import cv2\n",
    "from PIL import Image\n",
    "import torch\n",
    "import torch.nn as nn\n",
    "import torch.nn.functional as F\n",
    "from torch import optim\n",
    "from torch.autograd import Variable\n",
    "from torch.utils.data import DataLoader,Dataset\n",
    "import torchvision.datasets as dset\n",
    "import torchvision.transforms as transforms\n",
    "from train import Config, SiameseNetwork, normalize\n",
    "from test_CMC import TestSiameseNetworkDataset"
   ]
  },
  {
   "cell_type": "code",
   "execution_count": 2,
   "metadata": {},
   "outputs": [],
   "source": [
    "def f_Distance(img0_hsv, img0_grad, img1_hsv, img1_grad):\n",
    "    a = 0.9\n",
    "    output0_hsv,output1_hsv = net(Variable(img0_hsv),Variable(img1_hsv))\n",
    "    output0_grad,output1_grad = net(Variable(img0_grad),Variable(img1_grad))\n",
    "    output0 = torch.cat((a * output0_hsv, (1-a) * output0_grad), 1)\n",
    "    output1 = torch.cat((a * output1_hsv, (1-a) * output1_grad), 1)\n",
    "                \n",
    "    euclidean_distance = F.pairwise_distance(output0, output1)\n",
    "    cos_distance = np.linalg.norm(normalize(output0.data.numpy()[0]) - normalize(output1.data.numpy()[0]))\n",
    "    distance  = cos_distance * euclidean_distance\n",
    "    return distance"
   ]
  },
  {
   "cell_type": "code",
   "execution_count": 4,
   "metadata": {},
   "outputs": [
    {
     "name": "stdout",
     "output_type": "stream",
     "text": [
      "max_dis:8.840\n"
     ]
    }
   ],
   "source": [
    "if __name__=='__main__':\n",
    "    net = SiameseNetwork()\n",
    "    \n",
    "    #load model\n",
    "    save_p = \"./net_test.pth\"\n",
    "    checkpoint = torch.load(save_p)\n",
    "    net.load_state_dict(checkpoint['net'])\n",
    "    \n",
    "    #load 4 pictures of the target person\n",
    "    folder_dataset_test = dset.ImageFolder(root=Config.reid_prepare_dir)\n",
    "    reid_prepare_siamese_dataset = TestSiameseNetworkDataset(imageFolderDataset=folder_dataset_test,\n",
    "                                                       transform=transforms.Compose([transforms.Resize((160,60)),\n",
    "                                                                                     transforms.ToTensor()]))\n",
    "    reid_prepare_dataloader = DataLoader(reid_prepare_siamese_dataset,num_workers=0,batch_size=1,shuffle=True)\n",
    "    \n",
    "    #calculate distances between every 2 of 4 and get max.\n",
    "    dis=[]\n",
    "    for i,data_i in enumerate(reid_prepare_dataloader,0):\n",
    "        img0_hsv, img0_grad, label_0 = data_i\n",
    "        for j,data_j in enumerate(reid_prepare_dataloader,0):\n",
    "            img1_hsv, img1_grad, label_1 = data_j\n",
    "            if torch.equal(img0_hsv, img1_hsv):\n",
    "                continue \n",
    "            else:\n",
    "                distance  = f_Distance(img0_hsv, img0_grad, img1_hsv, img1_grad)\n",
    "                distance = distance.detach().numpy().tolist()\n",
    "                dis.append(distance[0])\n",
    "    max_dis=max(dis)\n",
    "    print(\"max_dis:{:.3f}\".format(max_dis))"
   ]
  }
 ],
 "metadata": {
  "kernelspec": {
   "display_name": "Python 3",
   "language": "python",
   "name": "python3"
  },
  "language_info": {
   "codemirror_mode": {
    "name": "ipython",
    "version": 3
   },
   "file_extension": ".py",
   "mimetype": "text/x-python",
   "name": "python",
   "nbconvert_exporter": "python",
   "pygments_lexer": "ipython3",
   "version": "3.7.3"
  }
 },
 "nbformat": 4,
 "nbformat_minor": 2
}
